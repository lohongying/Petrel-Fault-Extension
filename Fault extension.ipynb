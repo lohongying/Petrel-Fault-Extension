{
 "cells": [
  {
   "cell_type": "markdown",
   "metadata": {},
   "source": [
    "The code is written to extend a fault interpretation from a line, derived from 2D seismic to a plane. Please follow the instructions below:\n",
    "\n",
    "1) Export your fault as points and save as Irap classic points (ASCII) format.<br>\n",
    "2) Place the fault file in the same folder as the current code file.<br>\n",
    "3) Make changes to the code as described below.\n",
    "\n",
    "Note: pandas and numpy packages are required"
   ]
  },
  {
   "cell_type": "code",
   "execution_count": 66,
   "metadata": {},
   "outputs": [],
   "source": [
    "import pandas as pd\n",
    "import numpy as np"
   ]
  },
  {
   "cell_type": "markdown",
   "metadata": {},
   "source": [
    "Import file\n",
    "- change the filename below to the file you intend to import"
   ]
  },
  {
   "cell_type": "code",
   "execution_count": 67,
   "metadata": {},
   "outputs": [
    {
     "name": "stdout",
     "output_type": "stream",
     "text": [
      "                0             1          2\n",
      "0    2.491356e+06  1.121519e+06  36.788872\n",
      "1    2.491365e+06  1.121507e+06  36.788872\n",
      "2    2.491373e+06  1.121494e+06  36.788872\n",
      "3    2.491381e+06  1.121482e+06  36.788872\n",
      "4    2.491390e+06  1.121469e+06  36.788872\n",
      "5    2.491398e+06  1.121456e+06  36.788872\n",
      "6    2.491406e+06  1.121444e+06  36.788872\n",
      "7    2.491415e+06  1.121431e+06  36.788872\n",
      "8    2.491423e+06  1.121418e+06  36.788872\n",
      "9    2.491431e+06  1.121406e+06  36.788872\n",
      "10   2.491440e+06  1.121393e+06  36.788872\n",
      "11   2.491448e+06  1.121381e+06  36.788872\n",
      "12   2.491456e+06  1.121368e+06  36.788872\n",
      "13   2.491465e+06  1.121355e+06  36.788872\n",
      "14   2.491473e+06  1.121343e+06  36.788872\n",
      "15   2.491482e+06  1.121330e+06  36.788872\n",
      "16   2.491490e+06  1.121318e+06  36.788872\n",
      "17   2.491498e+06  1.121305e+06  36.788872\n",
      "18   2.491507e+06  1.121292e+06  36.788872\n",
      "19   2.491515e+06  1.121280e+06  36.370811\n",
      "20   2.491523e+06  1.121267e+06  35.952747\n",
      "21   2.491532e+06  1.121254e+06  35.534687\n",
      "22   2.491540e+06  1.121242e+06  35.116627\n",
      "23   2.491548e+06  1.121229e+06  34.698566\n",
      "24   2.491557e+06  1.121217e+06  34.280502\n",
      "25   2.491565e+06  1.121204e+06  33.862442\n",
      "26   2.491575e+06  1.121193e+06  33.443951\n",
      "27   2.491586e+06  1.121182e+06  33.025459\n",
      "28   2.491596e+06  1.121171e+06  33.150906\n",
      "29   2.491606e+06  1.121160e+06  33.276352\n",
      "..            ...           ...        ...\n",
      "270  2.493696e+06  1.118240e+06  90.898392\n",
      "271  2.493705e+06  1.118228e+06  90.137344\n",
      "272  2.493714e+06  1.118216e+06  89.376297\n",
      "273  2.493722e+06  1.118203e+06  88.615257\n",
      "274  2.493731e+06  1.118191e+06  87.854210\n",
      "275  2.493740e+06  1.118179e+06  87.093163\n",
      "276  2.493748e+06  1.118167e+06  86.332115\n",
      "277  2.493757e+06  1.118155e+06  85.571068\n",
      "278  2.493766e+06  1.118143e+06  84.810028\n",
      "279  2.493774e+06  1.118131e+06  84.048981\n",
      "280  2.493783e+06  1.118119e+06  83.287933\n",
      "281  2.493792e+06  1.118107e+06  83.287933\n",
      "282  2.493801e+06  1.118095e+06  83.037041\n",
      "283  2.493809e+06  1.118083e+06  82.786148\n",
      "284  2.493818e+06  1.118071e+06  82.535248\n",
      "285  2.493827e+06  1.118059e+06  82.284355\n",
      "286  2.493835e+06  1.118047e+06  82.033463\n",
      "287  2.493844e+06  1.118035e+06  82.127190\n",
      "288  2.493853e+06  1.118023e+06  82.220909\n",
      "289  2.493862e+06  1.118011e+06  82.314636\n",
      "290  2.493870e+06  1.117999e+06  82.408356\n",
      "291  2.493879e+06  1.117987e+06  82.502083\n",
      "292  2.493892e+06  1.117978e+06  82.600311\n",
      "293  2.493904e+06  1.117969e+06  82.698547\n",
      "294  2.493917e+06  1.117959e+06  82.796776\n",
      "295  2.493929e+06  1.117950e+06  82.895004\n",
      "296  2.493942e+06  1.117941e+06  82.993240\n",
      "297  2.493954e+06  1.117932e+06  83.091469\n",
      "298  2.493967e+06  1.117923e+06  83.189705\n",
      "299  2.493980e+06  1.117914e+06  83.287933\n",
      "\n",
      "[300 rows x 3 columns]\n"
     ]
    }
   ],
   "source": [
    "fault = pd.read_csv('Quat', error_bad_lines=False, header=None, delimiter=' ')\n",
    "print(fault)\n",
    "\n",
    "f=np.array(fault)"
   ]
  },
  {
   "cell_type": "markdown",
   "metadata": {},
   "source": [
    "Extension Parameters\n",
    "\n",
    "- Change the parameters below for an accustomed extension"
   ]
  },
  {
   "cell_type": "code",
   "execution_count": 68,
   "metadata": {},
   "outputs": [],
   "source": [
    "# Extension parameters\n",
    "\n",
    "# Horizontal resolution of the extension (x-direction)\n",
    "resx = 1000\n",
    "\n",
    "# Horizontal extent of the extension (x-direction); \n",
    "# e.g. for a size 100, the points would be extended 100 units towards both positive and negative x-direction\n",
    "size = 3000\n",
    "\n",
    "# Define theta: The azimuth of the straight line along which the fault will be extended\n",
    "theta = 76.76\n",
    "m = np.tan(np.deg2rad(90-theta))"
   ]
  },
  {
   "cell_type": "code",
   "execution_count": 69,
   "metadata": {},
   "outputs": [],
   "source": [
    "#delta array iteration\n",
    "delta =[]\n",
    "delx = resx\n",
    "\n",
    "while delx < size:\n",
    "    dely= delx * m\n",
    "    delta.append([delx,dely,0])\n",
    "    delx += resx\n",
    "\n",
    "#output array iteration\n",
    "result=[]\n",
    "\n",
    "for i in range(len(f)):\n",
    "    result.append([f[i][0],f[i][1],f[i][2]])\n",
    "    for j in range(len(delta)):\n",
    "        tempx=f[i][0]+delta[j][0]\n",
    "        tempy=f[i][1]+delta[j][1]\n",
    "        tempz=f[i][2]\n",
    "        result.append([tempx,tempy,tempz])\n",
    "        tempx=f[i][0]-delta[j][0]\n",
    "        tempy=f[i][1]-delta[j][1]\n",
    "        tempz=f[i][2]\n",
    "        result.append([tempx,tempy,tempz])"
   ]
  },
  {
   "cell_type": "markdown",
   "metadata": {},
   "source": [
    "Export new fault as .csv\n",
    "- Please specify the new file name\n",
    "- The file would be saved with three columns with headers \"X\", \"Y\", \"Z/Time\""
   ]
  },
  {
   "cell_type": "code",
   "execution_count": 70,
   "metadata": {},
   "outputs": [],
   "source": [
    "pd.DataFrame(result).to_csv(r\"Extended/Quat\",header=None,index=None,sep=' ')"
   ]
  },
  {
   "cell_type": "code",
   "execution_count": null,
   "metadata": {},
   "outputs": [],
   "source": [
    "\n"
   ]
  }
 ],
 "metadata": {
  "kernelspec": {
   "display_name": "Python 3",
   "language": "python",
   "name": "python3"
  },
  "language_info": {
   "codemirror_mode": {
    "name": "ipython",
    "version": 3
   },
   "file_extension": ".py",
   "mimetype": "text/x-python",
   "name": "python",
   "nbconvert_exporter": "python",
   "pygments_lexer": "ipython3",
   "version": "3.7.1"
  }
 },
 "nbformat": 4,
 "nbformat_minor": 2
}
